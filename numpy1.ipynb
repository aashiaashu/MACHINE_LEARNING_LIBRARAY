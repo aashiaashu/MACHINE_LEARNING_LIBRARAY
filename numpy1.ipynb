{
 "cells": [
  {
   "cell_type": "markdown",
   "id": "a3dc36de",
   "metadata": {},
   "source": [
    "# ZERO D ARRAY"
   ]
  },
  {
   "cell_type": "code",
   "execution_count": 1,
   "id": "ca3a6c9a",
   "metadata": {},
   "outputs": [],
   "source": [
    "import numpy as np"
   ]
  },
  {
   "cell_type": "code",
   "execution_count": 2,
   "id": "be32ae74",
   "metadata": {},
   "outputs": [],
   "source": [
    "a=np.array(90)"
   ]
  },
  {
   "cell_type": "code",
   "execution_count": 3,
   "id": "b6f1e25c",
   "metadata": {},
   "outputs": [
    {
     "name": "stdout",
     "output_type": "stream",
     "text": [
      "90\n"
     ]
    }
   ],
   "source": [
    "print(a)"
   ]
  },
  {
   "cell_type": "code",
   "execution_count": 4,
   "id": "d79b8fa7",
   "metadata": {},
   "outputs": [
    {
     "data": {
      "text/plain": [
       "numpy.ndarray"
      ]
     },
     "execution_count": 4,
     "metadata": {},
     "output_type": "execute_result"
    }
   ],
   "source": [
    "type(a)"
   ]
  },
  {
   "cell_type": "markdown",
   "id": "c25a8a04",
   "metadata": {},
   "source": [
    "# ONE D ARRAY"
   ]
  },
  {
   "cell_type": "code",
   "execution_count": 5,
   "id": "3a5d56c3",
   "metadata": {},
   "outputs": [
    {
     "name": "stdout",
     "output_type": "stream",
     "text": [
      "[ 1  2 34  4]\n"
     ]
    }
   ],
   "source": [
    "b = np.array([1,2,34,4])\n",
    "print(b)"
   ]
  },
  {
   "cell_type": "code",
   "execution_count": 6,
   "id": "f916156d",
   "metadata": {},
   "outputs": [
    {
     "name": "stdout",
     "output_type": "stream",
     "text": [
      "1\n"
     ]
    }
   ],
   "source": [
    "print(b.ndim)"
   ]
  },
  {
   "cell_type": "markdown",
   "id": "3f1caba0",
   "metadata": {},
   "source": [
    "# 2D ARRAY"
   ]
  },
  {
   "cell_type": "code",
   "execution_count": 7,
   "id": "00f54c06",
   "metadata": {},
   "outputs": [
    {
     "name": "stdout",
     "output_type": "stream",
     "text": [
      "[[1 2 3]\n",
      " [3 5 7]]\n"
     ]
    }
   ],
   "source": [
    "c = np.array([[1,2,3],[3,5,7]])\n",
    "print(c)"
   ]
  },
  {
   "cell_type": "code",
   "execution_count": 8,
   "id": "060a12ea",
   "metadata": {},
   "outputs": [
    {
     "name": "stdout",
     "output_type": "stream",
     "text": [
      "2\n"
     ]
    }
   ],
   "source": [
    "print(c.ndim)"
   ]
  },
  {
   "cell_type": "markdown",
   "id": "c5bff63f",
   "metadata": {},
   "source": [
    "# 3D ARRAY"
   ]
  },
  {
   "cell_type": "code",
   "execution_count": 11,
   "id": "e966c409",
   "metadata": {},
   "outputs": [
    {
     "name": "stdout",
     "output_type": "stream",
     "text": [
      "[[[1 2 3]\n",
      "  [4 5 6]]\n",
      "\n",
      " [[2 3 7]\n",
      "  [4 9 5]]]\n"
     ]
    }
   ],
   "source": [
    "d = np.array([[[1,2,3],[4,5,6]],[[2,3,7],[4,9,5]]]) #collection of 2d arrays\n",
    "print(d)"
   ]
  },
  {
   "cell_type": "code",
   "execution_count": 12,
   "id": "8b8e42c1",
   "metadata": {},
   "outputs": [
    {
     "name": "stdout",
     "output_type": "stream",
     "text": [
      "3\n"
     ]
    }
   ],
   "source": [
    "print(d.ndim)"
   ]
  },
  {
   "cell_type": "markdown",
   "id": "b069925e",
   "metadata": {},
   "source": [
    "# SHAPE AND RESHAPE"
   ]
  },
  {
   "cell_type": "code",
   "execution_count": 13,
   "id": "e9bbc5a3",
   "metadata": {},
   "outputs": [
    {
     "name": "stdout",
     "output_type": "stream",
     "text": [
      "(4,)\n"
     ]
    }
   ],
   "source": [
    "a = np.array([1,2,3,4])\n",
    "print(a.shape)"
   ]
  },
  {
   "cell_type": "code",
   "execution_count": 15,
   "id": "b57444fb",
   "metadata": {},
   "outputs": [
    {
     "name": "stdout",
     "output_type": "stream",
     "text": [
      "(2, 4)\n"
     ]
    }
   ],
   "source": [
    "b = np.array([[1,2,3,4],[5,6,7,8]])\n",
    "print(b.shape)"
   ]
  },
  {
   "cell_type": "code",
   "execution_count": 16,
   "id": "54aae4e3",
   "metadata": {},
   "outputs": [
    {
     "name": "stdout",
     "output_type": "stream",
     "text": [
      "[[ 1  2  3]\n",
      " [ 4  5  6]\n",
      " [ 7  8  9]\n",
      " [10 11 12]]\n"
     ]
    }
   ],
   "source": [
    "c = np.array([1,2,3,4,5,6,7,8,9,10,11,12])\n",
    "new_arr = c.reshape(4,3)\n",
    "print(new_arr)"
   ]
  },
  {
   "cell_type": "code",
   "execution_count": 17,
   "id": "9a6c17eb",
   "metadata": {},
   "outputs": [
    {
     "name": "stdout",
     "output_type": "stream",
     "text": [
      "(12,)\n"
     ]
    }
   ],
   "source": [
    "print(c.shape)"
   ]
  },
  {
   "cell_type": "code",
   "execution_count": 18,
   "id": "2bd7725c",
   "metadata": {},
   "outputs": [
    {
     "name": "stdout",
     "output_type": "stream",
     "text": [
      "(4, 3)\n"
     ]
    }
   ],
   "source": [
    "print(new_arr.shape)"
   ]
  },
  {
   "cell_type": "code",
   "execution_count": 19,
   "id": "b2bf5ecf",
   "metadata": {},
   "outputs": [
    {
     "name": "stdout",
     "output_type": "stream",
     "text": [
      "[[[ 1  2]\n",
      "  [ 3  4]\n",
      "  [ 5  6]]\n",
      "\n",
      " [[ 7  8]\n",
      "  [ 9 10]\n",
      "  [11 12]]]\n"
     ]
    }
   ],
   "source": [
    "new_arr2 = c.reshape(2,3,2)\n",
    "print(new_arr2)"
   ]
  },
  {
   "cell_type": "code",
   "execution_count": 20,
   "id": "6ccd62f9",
   "metadata": {},
   "outputs": [
    {
     "name": "stdout",
     "output_type": "stream",
     "text": [
      "(2, 3, 2)\n"
     ]
    }
   ],
   "source": [
    "print(new_arr2.shape)"
   ]
  },
  {
   "cell_type": "code",
   "execution_count": 21,
   "id": "1483df53",
   "metadata": {},
   "outputs": [
    {
     "name": "stdout",
     "output_type": "stream",
     "text": [
      "[1 2 3 4 5 6]\n"
     ]
    }
   ],
   "source": [
    "arr = np.array([[1,2,3],[4,5,6]])\n",
    "fla = arr.reshape(-1)\n",
    "print(fla)"
   ]
  },
  {
   "cell_type": "code",
   "execution_count": 22,
   "id": "69fb9a48",
   "metadata": {},
   "outputs": [
    {
     "name": "stdout",
     "output_type": "stream",
     "text": [
      "(6,)\n"
     ]
    }
   ],
   "source": [
    "print(fla.shape)"
   ]
  },
  {
   "cell_type": "code",
   "execution_count": 23,
   "id": "476902e4",
   "metadata": {},
   "outputs": [
    {
     "name": "stdout",
     "output_type": "stream",
     "text": [
      "1\n"
     ]
    }
   ],
   "source": [
    "print(fla.ndim)"
   ]
  },
  {
   "cell_type": "markdown",
   "id": "c5431427",
   "metadata": {},
   "source": [
    "# Array Indexing"
   ]
  },
  {
   "cell_type": "code",
   "execution_count": 24,
   "id": "37f5375d",
   "metadata": {},
   "outputs": [
    {
     "name": "stdout",
     "output_type": "stream",
     "text": [
      "3\n"
     ]
    }
   ],
   "source": [
    "a = np.array([3,4,5,6])\n",
    "print(a[0])"
   ]
  },
  {
   "cell_type": "code",
   "execution_count": 25,
   "id": "3bf6c624",
   "metadata": {},
   "outputs": [
    {
     "name": "stdout",
     "output_type": "stream",
     "text": [
      "5\n"
     ]
    }
   ],
   "source": [
    "print(a[2])"
   ]
  },
  {
   "cell_type": "code",
   "execution_count": 26,
   "id": "3def43a8",
   "metadata": {},
   "outputs": [
    {
     "name": "stdout",
     "output_type": "stream",
     "text": [
      "8\n"
     ]
    }
   ],
   "source": [
    "print(a[2]+a[0])"
   ]
  },
  {
   "cell_type": "code",
   "execution_count": 27,
   "id": "6818ca88",
   "metadata": {},
   "outputs": [
    {
     "name": "stdout",
     "output_type": "stream",
     "text": [
      "[[ 1  2  3  4  5]\n",
      " [ 6  7  8  9 10]]\n"
     ]
    }
   ],
   "source": [
    "b = np.array([[1,2,3,4,5],[6,7,8,9,10]])\n",
    "print(b)"
   ]
  },
  {
   "cell_type": "code",
   "execution_count": 28,
   "id": "3de01fcc",
   "metadata": {},
   "outputs": [
    {
     "name": "stdout",
     "output_type": "stream",
     "text": [
      "10\n"
     ]
    }
   ],
   "source": [
    "print(b[1,4])"
   ]
  },
  {
   "cell_type": "markdown",
   "id": "1d837932",
   "metadata": {},
   "source": [
    "# Array iterating"
   ]
  },
  {
   "cell_type": "code",
   "execution_count": 29,
   "id": "a0682cfe",
   "metadata": {},
   "outputs": [
    {
     "name": "stdout",
     "output_type": "stream",
     "text": [
      "1\n",
      "2\n",
      "3\n"
     ]
    }
   ],
   "source": [
    "arr = np.array([1,2,3])\n",
    "for i in arr:\n",
    "    print(i)"
   ]
  },
  {
   "cell_type": "code",
   "execution_count": 31,
   "id": "a32a7abc",
   "metadata": {},
   "outputs": [
    {
     "name": "stdout",
     "output_type": "stream",
     "text": [
      "[1 2 3]\n",
      "[4 5 6]\n"
     ]
    }
   ],
   "source": [
    "arr = np.array([[1,2,3],[4,5,6]])\n",
    "for i in arr:\n",
    "    print(i)"
   ]
  },
  {
   "cell_type": "code",
   "execution_count": 33,
   "id": "8905472f",
   "metadata": {},
   "outputs": [
    {
     "name": "stdout",
     "output_type": "stream",
     "text": [
      "1\n",
      "2\n",
      "3\n",
      "4\n",
      "5\n",
      "6\n"
     ]
    }
   ],
   "source": [
    "for i in arr:\n",
    "    for j in i:\n",
    "        print(j)"
   ]
  },
  {
   "cell_type": "markdown",
   "id": "95a446d7",
   "metadata": {},
   "source": [
    "# Array slicing"
   ]
  },
  {
   "cell_type": "code",
   "execution_count": 35,
   "id": "6b3a5b58",
   "metadata": {},
   "outputs": [
    {
     "name": "stdout",
     "output_type": "stream",
     "text": [
      "[2 3 4 5]\n"
     ]
    }
   ],
   "source": [
    "a = np.array([1,2,3,4,5,6,7,8,9])\n",
    "print(a[1:5])"
   ]
  },
  {
   "cell_type": "code",
   "execution_count": 36,
   "id": "ae6c3367",
   "metadata": {},
   "outputs": [
    {
     "name": "stdout",
     "output_type": "stream",
     "text": [
      "[3 4 5 6 7]\n"
     ]
    }
   ],
   "source": [
    "print(a[2:7])"
   ]
  },
  {
   "cell_type": "code",
   "execution_count": 38,
   "id": "9720264b",
   "metadata": {},
   "outputs": [
    {
     "name": "stdout",
     "output_type": "stream",
     "text": [
      "[[ 1  2  3  4  5]\n",
      " [ 6  7  8  9 10]]\n"
     ]
    }
   ],
   "source": [
    "b = np.array([[1,2,3,4,5],[6,7,8,9,10]])\n",
    "print(b)"
   ]
  },
  {
   "cell_type": "code",
   "execution_count": 39,
   "id": "85685ecb",
   "metadata": {},
   "outputs": [
    {
     "name": "stdout",
     "output_type": "stream",
     "text": [
      "[7 8 9]\n"
     ]
    }
   ],
   "source": [
    "print(b[1,1:4])"
   ]
  },
  {
   "cell_type": "code",
   "execution_count": 40,
   "id": "c56bc259",
   "metadata": {},
   "outputs": [
    {
     "name": "stdout",
     "output_type": "stream",
     "text": [
      "[1 2 3]\n"
     ]
    }
   ],
   "source": [
    "print(b[0,0:3])"
   ]
  },
  {
   "cell_type": "markdown",
   "id": "6b9a2488",
   "metadata": {},
   "source": [
    "# Searching and Sorting numpy array"
   ]
  },
  {
   "cell_type": "code",
   "execution_count": 41,
   "id": "3654f4f1",
   "metadata": {},
   "outputs": [
    {
     "name": "stdout",
     "output_type": "stream",
     "text": [
      "(array([0, 8], dtype=int64),)\n"
     ]
    }
   ],
   "source": [
    "a = np.array([1,2,3,4,5,9,3,0,1,8])\n",
    "x= np.where(a==1)\n",
    "print(x)"
   ]
  },
  {
   "cell_type": "code",
   "execution_count": 42,
   "id": "6d21f961",
   "metadata": {},
   "outputs": [
    {
     "name": "stdout",
     "output_type": "stream",
     "text": [
      "(array([4], dtype=int64),)\n"
     ]
    }
   ],
   "source": [
    "y=np.where(a==5)\n",
    "print(y)"
   ]
  },
  {
   "cell_type": "code",
   "execution_count": 43,
   "id": "093b4bde",
   "metadata": {},
   "outputs": [
    {
     "name": "stdout",
     "output_type": "stream",
     "text": [
      "(array([1, 3, 7, 9], dtype=int64),)\n"
     ]
    }
   ],
   "source": [
    "ans = np.where(a%2==0)\n",
    "print(ans)"
   ]
  },
  {
   "cell_type": "code",
   "execution_count": 44,
   "id": "4983a5db",
   "metadata": {},
   "outputs": [
    {
     "name": "stdout",
     "output_type": "stream",
     "text": [
      "[0 1 1 2 3 3 4 5 8 9]\n"
     ]
    }
   ],
   "source": [
    "print(np.sort(a))"
   ]
  },
  {
   "cell_type": "code",
   "execution_count": 45,
   "id": "5978b2df",
   "metadata": {},
   "outputs": [
    {
     "name": "stdout",
     "output_type": "stream",
     "text": [
      "['apple' 'banana' 'chiku']\n"
     ]
    }
   ],
   "source": [
    "a3 = np.array([\"apple\",\"chiku\",\"banana\"])\n",
    "print(np.sort(a3))"
   ]
  },
  {
   "cell_type": "code",
   "execution_count": null,
   "id": "1e50b893",
   "metadata": {},
   "outputs": [],
   "source": []
  }
 ],
 "metadata": {
  "kernelspec": {
   "display_name": "Python 3 (ipykernel)",
   "language": "python",
   "name": "python3"
  },
  "language_info": {
   "codemirror_mode": {
    "name": "ipython",
    "version": 3
   },
   "file_extension": ".py",
   "mimetype": "text/x-python",
   "name": "python",
   "nbconvert_exporter": "python",
   "pygments_lexer": "ipython3",
   "version": "3.9.12"
  }
 },
 "nbformat": 4,
 "nbformat_minor": 5
}
