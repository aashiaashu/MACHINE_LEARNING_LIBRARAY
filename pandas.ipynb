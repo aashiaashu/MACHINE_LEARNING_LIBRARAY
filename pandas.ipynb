{
 "cells": [
  {
   "cell_type": "code",
   "execution_count": 5,
   "id": "0887b091",
   "metadata": {},
   "outputs": [
    {
     "name": "stdout",
     "output_type": "stream",
     "text": [
      "Requirement already satisfied: pandas in c:\\users\\ahpat\\anaconda3\\lib\\site-packages (1.4.2)\n",
      "Requirement already satisfied: python-dateutil>=2.8.1 in c:\\users\\ahpat\\anaconda3\\lib\\site-packages (from pandas) (2.8.2)\n",
      "Requirement already satisfied: pytz>=2020.1 in c:\\users\\ahpat\\anaconda3\\lib\\site-packages (from pandas) (2021.3)\n",
      "Requirement already satisfied: numpy>=1.18.5 in c:\\users\\ahpat\\anaconda3\\lib\\site-packages (from pandas) (1.21.5)\n",
      "Requirement already satisfied: six>=1.5 in c:\\users\\ahpat\\anaconda3\\lib\\site-packages (from python-dateutil>=2.8.1->pandas) (1.16.0)\n",
      "Note: you may need to restart the kernel to use updated packages.\n"
     ]
    }
   ],
   "source": [
    "pip install pandas"
   ]
  },
  {
   "cell_type": "code",
   "execution_count": 2,
   "id": "1942bc7c",
   "metadata": {},
   "outputs": [],
   "source": [
    "import pandas as pd"
   ]
  },
  {
   "cell_type": "code",
   "execution_count": 4,
   "id": "9686d51b",
   "metadata": {},
   "outputs": [
    {
     "name": "stdout",
     "output_type": "stream",
     "text": [
      "0     3\n",
      "1     6\n",
      "2     8\n",
      "3    10\n",
      "4    30\n",
      "dtype: int64\n"
     ]
    }
   ],
   "source": [
    "a = [3,6,8,10,30]\n",
    "s1 = pd.Series(a)\n",
    "print(s1)"
   ]
  },
  {
   "cell_type": "code",
   "execution_count": 6,
   "id": "046346f1",
   "metadata": {},
   "outputs": [
    {
     "name": "stdout",
     "output_type": "stream",
     "text": [
      "one         10\n",
      "second     100\n",
      "third     1000\n",
      "dtype: int64\n"
     ]
    }
   ],
   "source": [
    "d1 = {\"one\":10,\"second\":100,\"third\":1000}\n",
    "s2 = pd.Series(d1)\n",
    "print(s2)"
   ]
  },
  {
   "cell_type": "code",
   "execution_count": 9,
   "id": "ab300595",
   "metadata": {},
   "outputs": [
    {
     "name": "stdout",
     "output_type": "stream",
     "text": [
      "  weekdays  test_score\n",
      "0   Sunday          10\n",
      "1   Monday          20\n",
      "2  Tuesday          30\n"
     ]
    }
   ],
   "source": [
    "sample_data ={\n",
    "    \"weekdays\" : [\"Sunday\",\"Monday\",\"Tuesday\"],\n",
    "    \"test_score\" : [10,20,30]\n",
    "}\n",
    "df = pd.DataFrame(sample_data)\n",
    "print(df)"
   ]
  },
  {
   "cell_type": "code",
   "execution_count": 10,
   "id": "4582e861",
   "metadata": {},
   "outputs": [
    {
     "name": "stdout",
     "output_type": "stream",
     "text": [
      "weekdays      Sunday\n",
      "test_score        10\n",
      "Name: 0, dtype: object\n"
     ]
    }
   ],
   "source": [
    "print(df.loc[0])"
   ]
  },
  {
   "cell_type": "markdown",
   "id": "60780b09",
   "metadata": {},
   "source": [
    "# Read csv"
   ]
  },
  {
   "cell_type": "code",
   "execution_count": 13,
   "id": "0e6cc8d9",
   "metadata": {},
   "outputs": [
    {
     "name": "stdout",
     "output_type": "stream",
     "text": [
      "                                               Number  \\\n",
      "0                                                   1   \n",
      "1                                                   2   \n",
      "2                                                   3   \n",
      "3                                                   4   \n",
      "4                                                   5   \n",
      "5                                                   6   \n",
      "6                                                   7   \n",
      "7                                                   8   \n",
      "8                                                   9   \n",
      "9                                                  10   \n",
      "10                                                 11   \n",
      "11                                                 12   \n",
      "12                                                 13   \n",
      "13                                                 14   \n",
      "14                                                 15   \n",
      "15                                                 16   \n",
      "16                                                 17   \n",
      "17                                                 18   \n",
      "18                                                 19   \n",
      "19                                                 20   \n",
      "20                                                 21   \n",
      "21                                                 22   \n",
      "22                                                 23   \n",
      "23                                                 24   \n",
      "24                                                 25   \n",
      "25                                                 26   \n",
      "26                                                 27   \n",
      "27                                                 28   \n",
      "28                                                 29   \n",
      "29                                                 30   \n",
      "30                                                 31   \n",
      "31                                                 32   \n",
      "32                                                 33   \n",
      "33                                                 34   \n",
      "34                                             Notes:   \n",
      "35  Due to small changes in population and sample ...   \n",
      "36  Due to rounding, figures may not add to stated...   \n",
      "37                                           Symbols:   \n",
      "38                             ... Data not collected   \n",
      "39        .. Data not applicable or no data available   \n",
      "40                                     C Confidential   \n",
      "41                    S Supressed for quality reasons   \n",
      "42                                          R Revised   \n",
      "43                                      P Provisional   \n",
      "\n",
      "                                             Footnote  \n",
      "0   Sector and published industry breakdowns accor...  \n",
      "1   In 2019 the R&D Survey was conducted only for ...  \n",
      "2   Results for this category should be treated wi...  \n",
      "3   Includes a wide range of ANZSIC industry codes...  \n",
      "4   Based on Rolling Mean employment. See Datainfo...  \n",
      "5   Only collected from the business sector. Not c...  \n",
      "6   Only collected from the business sector and go...  \n",
      "7   Only collected from the business sector and hi...  \n",
      "8   Only collected from the government and higher ...  \n",
      "9   Only collected from the  higher education sect...  \n",
      "10  Only collected from the the Crown Research Ins...  \n",
      "11  Dollar figures exclude GST and are rounded to ...  \n",
      "12  Underlying counts of businesses are random rou...  \n",
      "13  Underlying counts of employees are rounded usi...  \n",
      "14  Respondents are asked to allocate to each of t...  \n",
      "15  Includes 'defence' and 'other' research purposes.  \n",
      "16  Research intended to benefit the sectors of Pl...  \n",
      "17  Research intended to benefit the sectors of En...  \n",
      "18  Research intended to benefit the sectors of He...  \n",
      "19  Research intended to benefit the sectors of Ec...  \n",
      "20    Includes New Zealand local government agencies.  \n",
      "21  Basic research is carried out to advance knowl...  \n",
      "22  Pure basic research is research to pursue new ...  \n",
      "23  Targeted basic research is research to produce...  \n",
      "24  Applied research is investigation undertaken t...  \n",
      "25  Experimental research is systematic work under...  \n",
      "26  Businesses were asked to indicate one main rea...  \n",
      "27  Some categories or groups may not equal the to...  \n",
      "28       Excludes licensing of intellectual property.  \n",
      "29                              Excludes subsidaries.  \n",
      "30                    No longer collected after 2014.  \n",
      "31  GDP is based on Stats NZ's GDP current price e...  \n",
      "32  Sourced from Organisation for Economic Co-oper...  \n",
      "33  For more information on definitions and refere...  \n",
      "34                                                NaN  \n",
      "35                                                NaN  \n",
      "36                                                NaN  \n",
      "37                                                NaN  \n",
      "38                                                NaN  \n",
      "39                                                NaN  \n",
      "40                                                NaN  \n",
      "41                                                NaN  \n",
      "42                                                NaN  \n",
      "43                                                NaN  \n"
     ]
    }
   ],
   "source": [
    "df = pd.read_csv('research.csv')\n",
    "print(df)"
   ]
  },
  {
   "cell_type": "markdown",
   "id": "4f81e093",
   "metadata": {},
   "source": [
    "# Pandas data frames "
   ]
  },
  {
   "cell_type": "code",
   "execution_count": 14,
   "id": "93c736dd",
   "metadata": {},
   "outputs": [
    {
     "name": "stdout",
     "output_type": "stream",
     "text": [
      "  Number                                           Footnote\n",
      "0      1  Sector and published industry breakdowns accor...\n",
      "1      2  In 2019 the R&D Survey was conducted only for ...\n",
      "2      3  Results for this category should be treated wi...\n",
      "3      4  Includes a wide range of ANZSIC industry codes...\n",
      "4      5  Based on Rolling Mean employment. See Datainfo...\n"
     ]
    }
   ],
   "source": [
    "print(df.head(5))"
   ]
  },
  {
   "cell_type": "code",
   "execution_count": 15,
   "id": "dbeec756",
   "metadata": {},
   "outputs": [
    {
     "name": "stdout",
     "output_type": "stream",
     "text": [
      "                             Number Footnote\n",
      "41  S Supressed for quality reasons      NaN\n",
      "42                        R Revised      NaN\n",
      "43                    P Provisional      NaN\n"
     ]
    }
   ],
   "source": [
    "print(df.tail(3))"
   ]
  },
  {
   "cell_type": "code",
   "execution_count": 16,
   "id": "64cd9e82",
   "metadata": {},
   "outputs": [
    {
     "name": "stdout",
     "output_type": "stream",
     "text": [
      "<class 'pandas.core.frame.DataFrame'>\n",
      "RangeIndex: 44 entries, 0 to 43\n",
      "Data columns (total 2 columns):\n",
      " #   Column    Non-Null Count  Dtype \n",
      "---  ------    --------------  ----- \n",
      " 0   Number    44 non-null     object\n",
      " 1   Footnote  34 non-null     object\n",
      "dtypes: object(2)\n",
      "memory usage: 832.0+ bytes\n",
      "None\n"
     ]
    }
   ],
   "source": [
    "print(df.info())"
   ]
  },
  {
   "cell_type": "code",
   "execution_count": 17,
   "id": "0900d057",
   "metadata": {},
   "outputs": [
    {
     "name": "stdout",
     "output_type": "stream",
     "text": [
      "       Number                                           Footnote\n",
      "count      44                                                 34\n",
      "unique     44                                                 34\n",
      "top         1  Sector and published industry breakdowns accor...\n",
      "freq        1                                                  1\n"
     ]
    }
   ],
   "source": [
    "print(df.describe())"
   ]
  },
  {
   "cell_type": "code",
   "execution_count": null,
   "id": "cbd81f5f",
   "metadata": {},
   "outputs": [],
   "source": []
  }
 ],
 "metadata": {
  "kernelspec": {
   "display_name": "Python 3 (ipykernel)",
   "language": "python",
   "name": "python3"
  },
  "language_info": {
   "codemirror_mode": {
    "name": "ipython",
    "version": 3
   },
   "file_extension": ".py",
   "mimetype": "text/x-python",
   "name": "python",
   "nbconvert_exporter": "python",
   "pygments_lexer": "ipython3",
   "version": "3.9.12"
  }
 },
 "nbformat": 4,
 "nbformat_minor": 5
}
